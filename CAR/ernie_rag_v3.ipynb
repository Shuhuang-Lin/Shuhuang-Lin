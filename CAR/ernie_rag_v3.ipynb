{
 "cells": [
  {
   "cell_type": "code",
   "execution_count": 2,
   "id": "e49d38c8-bd10-4109-8853-36238c887d8a",
   "metadata": {
    "ExecutionIndicator": {
     "show": true
    },
    "execution": {
     "iopub.execute_input": "2024-08-28T08:41:42.607768Z",
     "iopub.status.busy": "2024-08-28T08:41:42.607426Z",
     "iopub.status.idle": "2024-08-28T08:41:49.407228Z",
     "shell.execute_reply": "2024-08-28T08:41:49.406672Z",
     "shell.execute_reply.started": "2024-08-28T08:41:42.607750Z"
    },
    "tags": []
   },
   "outputs": [
    {
     "name": "stderr",
     "output_type": "stream",
     "text": [
      "/usr/local/lib/python3.10/site-packages/sentence_transformers/cross_encoder/CrossEncoder.py:11: TqdmExperimentalWarning: Using `tqdm.autonotebook.tqdm` in notebook mode. Use `tqdm.tqdm` instead to force console mode (e.g. in jupyter console)\n",
      "  from tqdm.autonotebook import tqdm, trange\n",
      "/usr/local/lib/python3.10/site-packages/_distutils_hack/__init__.py:55: UserWarning: Reliance on distutils from stdlib is deprecated. Users must rely on setuptools to provide the distutils module. Avoid importing distutils or import setuptools first, and avoid setting SETUPTOOLS_USE_DISTUTILS=stdlib. Register concerns at https://github.com/pypa/setuptools/issues/new?template=distutils-deprecation.yml\n",
      "  warnings.warn(\n"
     ]
    }
   ],
   "source": [
    "from langchain_community.document_loaders.json_loader import JSONLoader\n",
    "from langchain.text_splitter import CharacterTextSplitter\n",
    "from langchain_chroma import Chroma\n",
    "from langchain_community.embeddings import HuggingFaceBgeEmbeddings\n",
    "from langchain.schema import Document\n",
    "import json\n",
    "\n",
    "model_name = \"./bge-large-zh-v1.5\"  # 中文embedding\n",
    "model_kwargs = {'device': 'cpu'}  # 指定cpu模式运行\n",
    "\n",
    "hf = HuggingFaceBgeEmbeddings(\n",
    "    encode_kwargs={'normalize_embeddings': True},\n",
    "    model_name=model_name,\n",
    "    model_kwargs=model_kwargs,\n",
    ")\n",
    "\n",
    "# 初始化单一的 Chroma 向量数据库\n",
    "vector_store = Chroma(\n",
    "    collection_name=\"combined_database\",  # 可以使用一个数据库来管理多个集合\n",
    "    embedding_function=hf,\n",
    "    persist_directory=\"./chroma_combined_db\"  # 统一的持久化目录\n",
    ")\n",
    "\n",
    "# 定义函数加载 JSON 文件\n",
    "def load_json(path):\n",
    "    with open(path, 'r', encoding='utf-8') as f:\n",
    "        data = json.load(f)\n",
    "    return data\n",
    "\n",
    "def add_docs():\n",
    "    # 加载生产流程数据并添加到数据库\n",
    "    production_flow_data = load_json(\"json/product_production_flow.json\")\n",
    "    for product_data in production_flow_data:\n",
    "        # 创建 Document 对象\n",
    "        doc = Document(page_content=str(product_data).replace(\"'\", \"\"), metadata={\"product_name\": product_data['product'], \"type\": \"production_database\"})\n",
    "\n",
    "        # 添加到向量数据库\n",
    "        vector_store.add_documents([doc])\n",
    "\n",
    "        \n",
    "    # 加载 BOM 数据并添加到数据库\n",
    "    bom_data = load_json(\"json/product_bom.json\")\n",
    "    for entry in bom_data:\n",
    "        # 创建 Document 对象\n",
    "        doc = Document(page_content=str(entry).replace(\"'\", \"\"), metadata={\"product_name\": entry['product'], \"type\": \"bom_database\"})\n",
    "\n",
    "        # 添加到向量数据库\n",
    "        vector_store.add_documents([doc])\n",
    "\n",
    "        \n",
    "    # 加载库存数据\n",
    "    inventory_data = load_json(\"json/inventory_data.json\")\n",
    "\n",
    "    # 遍历库存数据并添加到数据库\n",
    "    for item in inventory_data[\"workshop_inventory\"]:\n",
    "        # 创建 Document 对象\n",
    "        doc = Document(page_content=str(item).replace(\"'\", \"\"), metadata={\"material_name\": item['material_name'], \"type\": \"inventory_database\"})\n",
    "\n",
    "        # 添加到向量数据库\n",
    "        vector_store.add_documents([doc])\n",
    "\n",
    "    # 加载常见问题数据\n",
    "    q_and_a_data = load_json(\"json/QA.json\")\n",
    "\n",
    "    # 遍历常见问题数据并添加到数据库\n",
    "    for product_data in q_and_a_data:\n",
    "        if isinstance(product_data, dict):\n",
    "            # 格式化每个问题和解决方案\n",
    "            for issue_data in product_data[\"common_issues\"]:\n",
    "                issue = issue_data[\"issue\"]\n",
    "                product_name = product_data['product']\n",
    "\n",
    "                # 创建 Document 对象\n",
    "                doc = Document(page_content=str(issue_data).replace(\"'\", \"\"), metadata={\"product_name\": product_data['product'], \"issue\": issue, \"type\": \"Q_and_A\"})\n",
    "\n",
    "                # 添加到向量数据库\n",
    "                vector_store.add_documents([doc])"
   ]
  },
  {
   "cell_type": "code",
   "execution_count": 3,
   "id": "584a6748-4d56-4c35-bbd5-fee22777248b",
   "metadata": {
    "execution": {
     "iopub.execute_input": "2024-08-28T08:42:42.571288Z",
     "iopub.status.busy": "2024-08-28T08:42:42.570662Z",
     "iopub.status.idle": "2024-08-28T08:44:05.326732Z",
     "shell.execute_reply": "2024-08-28T08:44:05.326161Z",
     "shell.execute_reply.started": "2024-08-28T08:42:42.571264Z"
    },
    "tags": []
   },
   "outputs": [],
   "source": [
    "import erniebot\n",
    "\n",
    "erniebot.api_type = \"aistudio\"\n",
    "erniebot.access_token = \"2c1755c0d9320df6ae89f46f79186e745eac21ae\"  # 替换为你的实际 access_token\n",
    "\n",
    "add_docs()"
   ]
  },
  {
   "cell_type": "code",
   "execution_count": 12,
   "id": "87be9797-6c24-4f04-b553-06aa607e7122",
   "metadata": {
    "ExecutionIndicator": {
     "show": true
    },
    "execution": {
     "iopub.execute_input": "2024-08-28T09:18:55.765101Z",
     "iopub.status.busy": "2024-08-28T09:18:55.764734Z",
     "iopub.status.idle": "2024-08-28T09:19:00.128961Z",
     "shell.execute_reply": "2024-08-28T09:19:00.128413Z",
     "shell.execute_reply.started": "2024-08-28T09:18:55.765081Z"
    },
    "tags": []
   },
   "outputs": [
    {
     "name": "stdout",
     "output_type": "stream",
     "text": [
      "{'production_flow': '{product: 可燃气体检测仪开发板, production_steps: [{step_name: 原材料准备, description: 获取生产所需的所有原材料和元件，包括PCB板、电阻、电容、IC等。, required_materials: [PCB板, 电阻, 电容, IC], equipment: [自动化仓库机器人]}, {step_name: SMT贴片, description: 将元件贴装到PCB板上，确保贴装位置和方向正确。, required_materials: [PCB板, 元件], equipment: [SMT设备]}, {step_name: 自动光学检测（AOI）, description: 检测已贴装的PCB板，确保元件位置和焊接质量符合要求。, required_materials: [贴装好的PCB板], equipment: [AOI检测设备]}, {step_name: 人工插件, description: 根据设计要求，手动插入特定元件，并进行焊接。, required_materials: [插件元件, 焊锡], equipment: [手工焊接台]}, {step_name: 包装, description: 将合格的板卡进行包装，贴上标签，并准备出货。, required_materials: [包装材料, 标签], equipment: [包装机]}]}', 'bom_info': '{product: 可燃气体检测仪开发板, BOM: [{material_name: PCB板, quantity_per_unit: 1, unit: 块}, {material_name: 电阻, quantity_per_unit: 10, unit: 个}, {material_name: 电容, quantity_per_unit: 8, unit: 个}, {material_name: IC, quantity_per_unit: 4, unit: 个}, {material_name: LED指示灯, quantity_per_unit: 2, unit: 个}, {material_name: 焊锡, quantity_per_unit: 0.2, unit: 克}, {material_name: 包装材料, quantity_per_unit: 1, unit: 套}]}', 'inventory_info': '{material_name: 电源模块, stock_quantity: 150, unit: 个, location: L12-03}'}\n"
     ]
    }
   ],
   "source": [
    "# 检索函数\n",
    "def retrieve_data(query, c_type):\n",
    "    # 进行相似性搜索，并使用 filter 过滤指定的 collection_name\n",
    "    # 手动检索并验证\n",
    "    retriever = vector_store.as_retriever(search_kwargs={\"k\": 1, \"filter\": {\"type\": c_type}})  # rank 1\n",
    "    # query = \"我要生产五十个智能照明控制器开发板的BOM\"\n",
    "    # Get relevant documents ordered by relevance score\n",
    "    docs = retriever.invoke(query)\n",
    "    return docs\n",
    "\n",
    "\n",
    "# 处理用户请求\n",
    "def select_vector_db(user_input):\n",
    "    # Step 1: 检索生产流程\n",
    "    production_flow = retrieve_data(user_input, \"production_database\")\n",
    "\n",
    "    # Step 2: 检索BOM信息\n",
    "    bom_info = retrieve_data(user_input, \"bom_database\")\n",
    "\n",
    "    # Step 3: 检索库存信息\n",
    "    inventory_info = retrieve_data(f\"{bom_info}库存情况\", \"inventory_database\")\n",
    "\n",
    "    # Step 4: 整合数据\n",
    "    result_json = {\n",
    "        \"production_flow\": production_flow[0].page_content,\n",
    "        \"bom_info\": bom_info[0].page_content,\n",
    "        \"inventory_info\": inventory_info[0].page_content\n",
    "    }\n",
    "\n",
    "    return result_json\n",
    "\n",
    "\n",
    "# 测试\n",
    "user_request = \"我想要生成可燃气体检测仪开发板80个\"\n",
    "result = select_vector_db(user_request)\n",
    "print(result)"
   ]
  },
  {
   "cell_type": "code",
   "execution_count": 10,
   "id": "a9a49a6b-27f9-4578-b751-2c1b801757cd",
   "metadata": {
    "ExecutionIndicator": {
     "show": false
    },
    "execution": {
     "iopub.execute_input": "2024-08-28T09:13:54.287469Z",
     "iopub.status.busy": "2024-08-28T09:13:54.287134Z",
     "iopub.status.idle": "2024-08-28T09:13:54.292332Z",
     "shell.execute_reply": "2024-08-28T09:13:54.291849Z",
     "shell.execute_reply.started": "2024-08-28T09:13:54.287450Z"
    },
    "tags": []
   },
   "outputs": [],
   "source": [
    "@ensure_questions\n",
    "def generate_response(user_input):\n",
    "    # stream=True 表示我们希望以流的方式接收回复\n",
    "    response = erniebot.ChatCompletion.create(\n",
    "        model='ernie-3.5',\n",
    "        messages=[{'role': 'user', 'content': user_input}],\n",
    "        stream=True,\n",
    "        top_p=0.95,\n",
    "        temperature=0.9\n",
    "    )\n",
    "    result_text = \"\"\n",
    "    # 处理流式输出\n",
    "    for chunk in response:\n",
    "        # 对于每个chunk，获取结果并打印\n",
    "        result = chunk.get_result()\n",
    "        result_text += result\n",
    "        print(result, end='', flush=True)\n",
    "\n",
    "    return result_text\n",
    "\n",
    "        \n",
    "def ensure_questions(generate_response):\n",
    "    def wrapper(user_input, *args, **kwargs):\n",
    "            rag_json = select_vector_db(user_input)\n",
    "            analysis_prompt = f\"\"\"\n",
    "            您是{role}，请帮我生成80个可燃气体检测仪开发板, 以下从车间JSON文档中检索出来的信息：{rag_json}\n",
    "\n",
    "            请严格根据所提供的信息回答，回答内容需要包括原材料等信息，不清楚的内容请明确说明为'不知道'。\n",
    "            \"\"\"\n",
    "\n",
    "            # 生成 response_text\n",
    "            res = generate_response(analysis_prompt, *args, **kwargs)\n",
    "            return res\n",
    "        \n",
    "    return wrapper\n",
    "\n",
    "\n",
    "role = \"电子仪器制造车间业务助理\"\n",
    "\n",
    "# 主函数\n",
    "def main():\n",
    "    # 打印欢迎消息\n",
    "    print(f\"{role}: 欢迎使用{role}\")\n",
    "    \n",
    "    while True:\n",
    "        user_input = input(\"You: \")\n",
    "\n",
    "        if user_input.lower() in [\"exit\", \"quit\", \"stop\"]:\n",
    "            print(\"Conversation ended.\")\n",
    "            break\n",
    "\n",
    "        # 生成并打印响应\n",
    "        response_text = generate_response(user_input)\n",
    "        if response_text is not None:\n",
    "            print(f\"{role}: \" + response_text)\n",
    "\n",
    "# 运行主函数\n",
    "if __name__ == \"__main__\":\n",
    "    main()"
   ]
  }
 ],
 "metadata": {
  "kernelspec": {
   "display_name": "Python 3 (ipykernel)",
   "language": "python",
   "name": "python3"
  },
  "language_info": {
   "codemirror_mode": {
    "name": "ipython",
    "version": 3
   },
   "file_extension": ".py",
   "mimetype": "text/x-python",
   "name": "python",
   "nbconvert_exporter": "python",
   "pygments_lexer": "ipython3",
   "version": "3.10.14"
  }
 },
 "nbformat": 4,
 "nbformat_minor": 5
}
